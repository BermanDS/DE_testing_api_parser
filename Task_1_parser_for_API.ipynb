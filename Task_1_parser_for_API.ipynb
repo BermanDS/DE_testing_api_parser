{
 "cells": [
  {
   "cell_type": "code",
   "execution_count": 1,
   "id": "c2cdfcd9-b2b3-429a-ade5-9117b45e5151",
   "metadata": {},
   "outputs": [],
   "source": [
    "import requests"
   ]
  },
  {
   "cell_type": "markdown",
   "id": "ea86546d-7519-4cbb-bfe9-338dbb27fc89",
   "metadata": {},
   "source": [
    "#### You need to research data from Itunes API of TOP paid applications in Russia for next tasks:\n",
    "- define the model of data by spliting them to main data - some kind of daily rate of definite market research and guides which could present additional attributes of main data with relation's information for storing into DB\n",
    "- make presentation of which tool you choose for scheduled ETL process into DB\n",
    "\n"
   ]
  },
  {
   "cell_type": "markdown",
   "id": "fb0e4d6c-ee42-4bb7-9e92-69056d7cc1d2",
   "metadata": {},
   "source": [
    "### Loading data"
   ]
  },
  {
   "cell_type": "code",
   "execution_count": 3,
   "id": "0ffc4821-1e7d-4d01-b60b-b73981908b0c",
   "metadata": {},
   "outputs": [],
   "source": [
    "url = 'https://rss.applemarketingtools.com/api/v2/ru/apps/top-paid/100/apps.json'"
   ]
  },
  {
   "cell_type": "code",
   "execution_count": 4,
   "id": "b074c65e-7c25-4d21-aec2-1965c7c33d02",
   "metadata": {},
   "outputs": [
    {
     "data": {
      "text/plain": [
       "200"
      ]
     },
     "execution_count": 4,
     "metadata": {},
     "output_type": "execute_result"
    }
   ],
   "source": [
    "response = requests.get(url)\n",
    "response.status_code"
   ]
  },
  {
   "cell_type": "code",
   "execution_count": 17,
   "id": "d0e0c5b3-b8c8-4994-a54a-901653efde05",
   "metadata": {},
   "outputs": [
    {
     "data": {
      "text/plain": [
       "'{\"feed\":{\"title\":\"Топ платных приложений\",\"id\":\"https://rss.applemarketingtools.com/api/v2/ru/apps/top-paid/100/apps.json\",\"author\":{\"name\":\"Apple\",\"url\":\"https://www.apple.com/\"},\"links\":[{\"self\":\"https://rss.applemarketingtools.com/api/v2/ru/apps/top-paid/100/apps.json\"}],\"copyright\":\"Copyright © 2022 Apple Inc. All rights reserved.\",\"country\":\"ru\",\"icon\":\"https://www.apple.com/favicon.ico\",\"updated\":\"Thu, 24 Mar 2022 19:54:59 +0000\",\"results\":[{\"artistName\":\"Threema GmbH\",\"id\":\"578665578\",\"na'"
      ]
     },
     "execution_count": 17,
     "metadata": {},
     "output_type": "execute_result"
    }
   ],
   "source": [
    "response.text[:500]"
   ]
  },
  {
   "cell_type": "markdown",
   "id": "575f16fe-803b-4934-bb53-540958cc2e7e",
   "metadata": {},
   "source": []
  }
 ],
 "metadata": {
  "kernelspec": {
   "display_name": "Python 3 (ipykernel)",
   "language": "python",
   "name": "python3"
  },
  "language_info": {
   "codemirror_mode": {
    "name": "ipython",
    "version": 3
   },
   "file_extension": ".py",
   "mimetype": "text/x-python",
   "name": "python",
   "nbconvert_exporter": "python",
   "pygments_lexer": "ipython3",
   "version": "3.8.12"
  }
 },
 "nbformat": 4,
 "nbformat_minor": 5
}
