{
 "cells": [
  {
   "cell_type": "code",
   "execution_count": 2,
   "id": "c2cdfcd9-b2b3-429a-ade5-9117b45e5151",
   "metadata": {},
   "outputs": [],
   "source": [
    "import requests"
   ]
  },
  {
   "cell_type": "markdown",
   "id": "ea86546d-7519-4cbb-bfe9-338dbb27fc89",
   "metadata": {},
   "source": [
    "#### You need to research data from Weather API for any 6 cities at next countries: Russia, Germany, USA, Switzerland and China in those tasks:\n",
    "- define the model of data by spliting them to main data - some kind of daily forecast of definite city and guides which could present additional attributes of main data with relation's information for storing into DB\n",
    "- make presentation of which tool you choose for scheduled ETL process into DB\n",
    "\n"
   ]
  },
  {
   "cell_type": "markdown",
   "id": "fb0e4d6c-ee42-4bb7-9e92-69056d7cc1d2",
   "metadata": {},
   "source": [
    "### Loading data"
   ]
  },
  {
   "cell_type": "code",
   "execution_count": 1,
   "id": "0ffc4821-1e7d-4d01-b60b-b73981908b0c",
   "metadata": {},
   "outputs": [],
   "source": [
    "url = 'https://weatherdbi.herokuapp.com/data/weather/{city}'"
   ]
  },
  {
   "cell_type": "code",
   "execution_count": 4,
   "id": "b074c65e-7c25-4d21-aec2-1965c7c33d02",
   "metadata": {},
   "outputs": [
    {
     "data": {
      "text/plain": [
       "200"
      ]
     },
     "execution_count": 4,
     "metadata": {},
     "output_type": "execute_result"
    }
   ],
   "source": [
    "response = requests.get(url.format(**{'city':'Ufa'}))\n",
    "response.status_code"
   ]
  },
  {
   "cell_type": "code",
   "execution_count": 5,
   "id": "d0e0c5b3-b8c8-4994-a54a-901653efde05",
   "metadata": {},
   "outputs": [
    {
     "data": {
      "text/plain": [
       "'{\"region\":\"Ufa, Republic of Bashkortostan, Russia\",\"currentConditions\":{\"dayhour\":\"Friday 1:00 AM\",\"temp\":{\"c\":-3,\"f\":27},\"precip\":\"4%\",\"humidity\":\"87%\",\"wind\":{\"km\":32,\"mile\":20},\"iconURL\":\"https://ssl.gstatic.com/onebox/weather/64/sunny_s_cloudy.png\",\"comment\":\"Clear with periodic clouds\"},\"next_days\":[{\"day\":\"Friday\",\"comment\":\"Mostly cloudy\",\"max_temp\":{\"c\":2,\"f\":36},\"min_temp\":{\"c\":-10,\"f\":14},\"iconURL\":\"https://ssl.gstatic.com/onebox/weather/48/partly_cloudy.png\"},{\"day\":\"Saturday\",\"commen'"
      ]
     },
     "execution_count": 5,
     "metadata": {},
     "output_type": "execute_result"
    }
   ],
   "source": [
    "response.text[:500]"
   ]
  },
  {
   "cell_type": "markdown",
   "id": "575f16fe-803b-4934-bb53-540958cc2e7e",
   "metadata": {},
   "source": []
  }
 ],
 "metadata": {
  "kernelspec": {
   "display_name": "Python 3 (ipykernel)",
   "language": "python",
   "name": "python3"
  },
  "language_info": {
   "codemirror_mode": {
    "name": "ipython",
    "version": 3
   },
   "file_extension": ".py",
   "mimetype": "text/x-python",
   "name": "python",
   "nbconvert_exporter": "python",
   "pygments_lexer": "ipython3",
   "version": "3.8.12"
  }
 },
 "nbformat": 4,
 "nbformat_minor": 5
}
