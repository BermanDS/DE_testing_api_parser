{
 "cells": [
  {
   "cell_type": "code",
   "execution_count": 1,
   "id": "c2cdfcd9-b2b3-429a-ade5-9117b45e5151",
   "metadata": {},
   "outputs": [],
   "source": [
    "import requests"
   ]
  },
  {
   "cell_type": "markdown",
   "id": "ea86546d-7519-4cbb-bfe9-338dbb27fc89",
   "metadata": {},
   "source": [
    "#### You need to research two different REST API's and one API packed into python library about Crypto data and make next tasks:\n",
    "- define the model of data by spliting them to main data - some kind of price variations and guides which could present additional attributes of main data with relation's information for storing into DB\n",
    "- make presentation of which tool you choose for scheduled ETL process into DB\n",
    "\n"
   ]
  },
  {
   "cell_type": "markdown",
   "id": "fb0e4d6c-ee42-4bb7-9e92-69056d7cc1d2",
   "metadata": {},
   "source": [
    "### Loading data"
   ]
  },
  {
   "cell_type": "code",
   "execution_count": 2,
   "id": "0ffc4821-1e7d-4d01-b60b-b73981908b0c",
   "metadata": {},
   "outputs": [],
   "source": [
    "### First API\n",
    "url_1 = 'https://api.wazirx.com/sapi/v1/tickers/24hr'"
   ]
  },
  {
   "cell_type": "code",
   "execution_count": 3,
   "id": "12ffa0dd-8779-405b-8deb-1c2b79e0968a",
   "metadata": {},
   "outputs": [],
   "source": [
    "### Second API\n",
    "url_2 = 'https://api2.binance.com/api/v3/ticker/24hr'"
   ]
  },
  {
   "cell_type": "code",
   "execution_count": 4,
   "id": "6509898e-83f3-4f80-bc26-76b188935f45",
   "metadata": {},
   "outputs": [],
   "source": [
    "### Third API\n",
    "### More information on https://github.com/man-c/pycoingecko\n",
    "from pycoingecko import CoinGeckoAPI\n",
    "cg = CoinGeckoAPI()"
   ]
  },
  {
   "cell_type": "code",
   "execution_count": 5,
   "id": "b074c65e-7c25-4d21-aec2-1965c7c33d02",
   "metadata": {},
   "outputs": [
    {
     "name": "stdout",
     "output_type": "stream",
     "text": [
      "200  :  https://api.wazirx.com/sapi/v1/tickers/24hr\n"
     ]
    }
   ],
   "source": [
    "### Testing\n",
    "### URL_1\n",
    "response = requests.get(url_1)\n",
    "print(response.status_code, ' : ', url_1)"
   ]
  },
  {
   "cell_type": "code",
   "execution_count": 6,
   "id": "d0e0c5b3-b8c8-4994-a54a-901653efde05",
   "metadata": {},
   "outputs": [
    {
     "data": {
      "text/plain": [
       "'[{\"symbol\":\"btcinr\",\"baseAsset\":\"btc\",\"quoteAsset\":\"inr\",\"openPrice\":\"3600151\",\"lowPrice\":\"3575000.0\",\"highPrice\":\"3670000.0\",\"lastPrice\":\"3651093.0\",\"volume\":\"272.92002\",\"bidPrice\":\"3650476.0\",\"askPrice\":\"3651093.0\",\"at\":1649146527000},{\"symbol\":\"xrpinr\",\"baseAsset\":\"xrp\",\"quoteAsset\":\"inr\",\"openPrice\":\"64.6612\",\"lowPrice\":\"63.8\",\"highPrice\":\"65.4899\",\"lastPrice\":\"64.5369\",\"volume\":\"372468.2\",\"bidPrice\":\"64.5369\",\"askPrice\":\"64.5433\",\"at\":1649146527000},{\"symbol\":\"ethinr\",\"baseAsset\":\"eth\",\"quo'"
      ]
     },
     "execution_count": 6,
     "metadata": {},
     "output_type": "execute_result"
    }
   ],
   "source": [
    "response.text[:500]"
   ]
  },
  {
   "cell_type": "code",
   "execution_count": 7,
   "id": "6c2de2a1-1338-4693-881b-ac1601983b2f",
   "metadata": {},
   "outputs": [
    {
     "name": "stdout",
     "output_type": "stream",
     "text": [
      "200  :  https://api2.binance.com/api/v3/ticker/24hr\n"
     ]
    }
   ],
   "source": [
    "### Testing\n",
    "### URL_2\n",
    "response = requests.get(url_2)\n",
    "print(response.status_code, ' : ', url_2)"
   ]
  },
  {
   "cell_type": "code",
   "execution_count": 8,
   "id": "1b07bdd5-4388-4d1f-ae4c-1f0767a55b47",
   "metadata": {},
   "outputs": [
    {
     "data": {
      "text/plain": [
       "'[{\"symbol\":\"ETHBTC\",\"priceChange\":\"-0.00029500\",\"priceChangePercent\":\"-0.389\",\"weightedAvgPrice\":\"0.07551428\",\"prevClosePrice\":\"0.07584800\",\"lastPrice\":\"0.07555300\",\"lastQty\":\"0.25660000\",\"bidPrice\":\"0.07555300\",\"bidQty\":\"13.05330000\",\"askPrice\":\"0.07555400\",\"askQty\":\"10.14110000\",\"openPrice\":\"0.07584800\",\"highPrice\":\"0.07619600\",\"lowPrice\":\"0.07494100\",\"volume\":\"78162.08220000\",\"quoteVolume\":\"5902.35371039\",\"openTime\":1649060131167,\"closeTime\":1649146531167,\"firstId\":333311278,\"lastId\":33345706'"
      ]
     },
     "execution_count": 8,
     "metadata": {},
     "output_type": "execute_result"
    }
   ],
   "source": [
    "response.text[:500]"
   ]
  },
  {
   "cell_type": "code",
   "execution_count": 10,
   "id": "af3a8c73-9e6b-4d65-a954-f84423b8ede8",
   "metadata": {},
   "outputs": [
    {
     "name": "stdout",
     "output_type": "stream",
     "text": [
      "{'id': '01coin', 'symbol': 'zoc', 'name': '01coin'}\n"
     ]
    }
   ],
   "source": [
    "### Testing\n",
    "### Puthon library\n",
    "response = cg.get_coins_list()\n",
    "if isinstance(response, list):\n",
    "    print(response[0])\n",
    "else:\n",
    "    print(response)"
   ]
  },
  {
   "cell_type": "code",
   "execution_count": null,
   "id": "c71df145-4229-4510-b969-ab4b517246d1",
   "metadata": {},
   "outputs": [],
   "source": []
  }
 ],
 "metadata": {
  "kernelspec": {
   "display_name": "Python 3 (ipykernel)",
   "language": "python",
   "name": "python3"
  },
  "language_info": {
   "codemirror_mode": {
    "name": "ipython",
    "version": 3
   },
   "file_extension": ".py",
   "mimetype": "text/x-python",
   "name": "python",
   "nbconvert_exporter": "python",
   "pygments_lexer": "ipython3",
   "version": "3.8.12"
  }
 },
 "nbformat": 4,
 "nbformat_minor": 5
}
